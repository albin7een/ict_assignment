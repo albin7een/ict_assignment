{
  "nbformat": 4,
  "nbformat_minor": 0,
  "metadata": {
    "colab": {
      "provenance": [],
      "authorship_tag": "ABX9TyNhQPsfa6BRzOI8LU6b0cfG",
      "include_colab_link": true
    },
    "kernelspec": {
      "name": "python3",
      "display_name": "Python 3"
    },
    "language_info": {
      "name": "python"
    }
  },
  "cells": [
    {
      "cell_type": "markdown",
      "metadata": {
        "id": "view-in-github",
        "colab_type": "text"
      },
      "source": [
        "<a href=\"https://colab.research.google.com/github/albin7een/ict_assignment/blob/main/assigment01_albin.ipynb\" target=\"_parent\"><img src=\"https://colab.research.google.com/assets/colab-badge.svg\" alt=\"Open In Colab\"/></a>"
      ]
    },
    {
      "cell_type": "markdown",
      "source": [
        "question 1\n"
      ],
      "metadata": {
        "id": "YvNLU9hTWXfd"
      }
    },
    {
      "cell_type": "code",
      "source": [
        "a=int(input(\"pric of item 1:\"))\n",
        "b=int(input(\"quantity of item 1:\"))\n",
        "c=int(input(\"price of item 2:\"))\n",
        "d=int(input(\"quantity of item 2:\"))\n",
        "t=a*b+c*d\n",
        "print(t)"
      ],
      "metadata": {
        "colab": {
          "base_uri": "https://localhost:8080/"
        },
        "id": "GP2qEWqzWp7d",
        "outputId": "6760e79a-ccf1-43ea-fe34-a7bb2739dab1"
      },
      "execution_count": null,
      "outputs": [
        {
          "output_type": "stream",
          "name": "stdout",
          "text": [
            "pric of item 1:45\n",
            "quantity of item 1:3\n",
            "price of item 2:30\n",
            "quantity of item 2:2\n",
            "195\n"
          ]
        }
      ]
    },
    {
      "cell_type": "markdown",
      "source": [
        "question 2"
      ],
      "metadata": {
        "id": "LXrv2bncYb5S"
      }
    },
    {
      "cell_type": "code",
      "source": [
        "c=int(input(\"Enter temperature in Celsius: \"))\n",
        "f= (c * 9/5) + 32\n",
        "print(\"tempertaure in fehrenheit: \",f)"
      ],
      "metadata": {
        "colab": {
          "base_uri": "https://localhost:8080/"
        },
        "id": "AkuvDV--YBN7",
        "outputId": "267f733c-6841-4756-a10b-3071e92747b7"
      },
      "execution_count": null,
      "outputs": [
        {
          "output_type": "stream",
          "name": "stdout",
          "text": [
            "Enter temperature in Celsius: 30\n",
            "tempertaure in fehrenheit:  86.0\n"
          ]
        }
      ]
    },
    {
      "cell_type": "markdown",
      "source": [
        "question 3"
      ],
      "metadata": {
        "id": "bFrMbWRlacjo"
      }
    },
    {
      "cell_type": "code",
      "source": [
        "a=float(input(\"enter the basic salary\"))\n",
        "n=a+(0.20*a)+(0.10*a)\n",
        "print(\"Net salary: \",n)"
      ],
      "metadata": {
        "colab": {
          "base_uri": "https://localhost:8080/"
        },
        "id": "KdNP9NBGZ3LQ",
        "outputId": "c9c9cb93-681b-43c7-f7a5-d2aeda93e257"
      },
      "execution_count": null,
      "outputs": [
        {
          "output_type": "stream",
          "name": "stdout",
          "text": [
            "enter the basic salary20000\n",
            "Net salary:  26000.0\n"
          ]
        }
      ]
    },
    {
      "cell_type": "markdown",
      "source": [
        "question 4\n"
      ],
      "metadata": {
        "id": "EqB7CTYLcz_d"
      }
    },
    {
      "cell_type": "code",
      "source": [
        "p=float(input(\"principle:\"))\n",
        "r=float(input(\"Rate of interest:\"))\n",
        "t=float(input(\"time in (year):\"))\n",
        "si= (p*r*t) / 100\n",
        "print(\"simple interest:\",si)"
      ],
      "metadata": {
        "colab": {
          "base_uri": "https://localhost:8080/"
        },
        "id": "VaZWKekAc2BM",
        "outputId": "43eb94a5-a611-49f8-98a7-c194fd7c68e1"
      },
      "execution_count": null,
      "outputs": [
        {
          "output_type": "stream",
          "name": "stdout",
          "text": [
            "principle:10000\n",
            "Rate of interest:5\n",
            "time in (year):2\n",
            "simple interest: 1000.0\n"
          ]
        }
      ]
    },
    {
      "cell_type": "markdown",
      "source": [
        "question 5"
      ],
      "metadata": {
        "id": "KJDA7JOMeF7D"
      }
    },
    {
      "cell_type": "code",
      "source": [
        "a=int(input(\"Enter the minutes:\"))\n",
        "h=a//60\n",
        "m=a%60\n",
        "print(h,\"hour\",m,\"minutes\")"
      ],
      "metadata": {
        "colab": {
          "base_uri": "https://localhost:8080/"
        },
        "id": "FNA2WL_YdyMr",
        "outputId": "a491f8dc-aa89-41c7-d0a9-cf6142783375"
      },
      "execution_count": null,
      "outputs": [
        {
          "output_type": "stream",
          "name": "stdout",
          "text": [
            "Enter the minutes:130\n",
            "2 hour 10 minutes\n"
          ]
        }
      ]
    },
    {
      "cell_type": "markdown",
      "source": [
        "question 6"
      ],
      "metadata": {
        "id": "kqJL6F5YjHhV"
      }
    },
    {
      "cell_type": "code",
      "source": [
        "a=float(input(\"weight:\"))\n",
        "b=float(input(\"height:\"))\n",
        "c=a /( b * b)\n",
        "print(\"BMI:\",c)"
      ],
      "metadata": {
        "colab": {
          "base_uri": "https://localhost:8080/"
        },
        "id": "X-iz7_67gskQ",
        "outputId": "9fe09e29-de49-47cf-e775-b17b6867f32c"
      },
      "execution_count": null,
      "outputs": [
        {
          "output_type": "stream",
          "name": "stdout",
          "text": [
            "weight:60\n",
            "height:1.65\n",
            "BMI: 22.03856749311295\n"
          ]
        }
      ]
    },
    {
      "cell_type": "markdown",
      "source": [
        "question 7\n"
      ],
      "metadata": {
        "id": "khyYii23Vxlg"
      }
    },
    {
      "cell_type": "code",
      "source": [
        "a=float(input(\" enter the orginal price \"))\n",
        "b=float(input(\"enter the discount\"))\n",
        "d=a-(a*b)/100\n",
        "print(d)"
      ],
      "metadata": {
        "id": "GR3vJi-_irh9",
        "colab": {
          "base_uri": "https://localhost:8080/"
        },
        "outputId": "ae3f3d29-4d07-49a5-a0fb-4b92e61432f8"
      },
      "execution_count": 23,
      "outputs": [
        {
          "output_type": "stream",
          "name": "stdout",
          "text": [
            " enter the orginal price 1200\n",
            "enter the discount10\n",
            "1080.0\n"
          ]
        }
      ]
    },
    {
      "cell_type": "markdown",
      "source": [
        "question 8"
      ],
      "metadata": {
        "id": "AG_moPSm2mM9"
      }
    },
    {
      "cell_type": "code",
      "source": [
        "a=float(input(\"Enter a side :\"))\n",
        "b=float(input(\"Enter b side : \"))\n",
        "c=float(input(\"Enter c side :\"))\n",
        "s=(a+b+c)/2\n",
        "ar= (s*(s-a)*(s-b)*(s-c))**0.5\n",
        "print(ar)"
      ],
      "metadata": {
        "colab": {
          "base_uri": "https://localhost:8080/"
        },
        "id": "Kxx_aIVZW6YO",
        "outputId": "f2bec480-a437-4092-a6cb-d06f2ba5cd74"
      },
      "execution_count": 9,
      "outputs": [
        {
          "output_type": "stream",
          "name": "stdout",
          "text": [
            "Enter a side :5\n",
            "Enter b side : 6\n",
            "Enter c side :7\n",
            "14.696938456699069\n"
          ]
        }
      ]
    },
    {
      "cell_type": "markdown",
      "source": [
        "quesion 9"
      ],
      "metadata": {
        "id": "4VRETiD-429C"
      }
    },
    {
      "cell_type": "code",
      "source": [
        "l=float(input(\"enter the length in meter : \"))\n",
        "h=float(input(\"enter the height in metet\"))\n",
        "t=l*h\n",
        "w=2*(1.5*1.2)\n",
        "p=t-w\n",
        "print(\"total area painted :\",p)\n",
        "c=p*25\n",
        "print(\"total cost\",c)"
      ],
      "metadata": {
        "colab": {
          "base_uri": "https://localhost:8080/"
        },
        "id": "ZBI2FTI84G0C",
        "outputId": "ff48c2f6-503d-4724-edc4-965317ded577"
      },
      "execution_count": 20,
      "outputs": [
        {
          "output_type": "stream",
          "name": "stdout",
          "text": [
            "enter the length in meter : 12\n",
            "enter the height in metet8\n",
            "total area painted : 92.4\n",
            "total cost 2310.0\n"
          ]
        }
      ]
    },
    {
      "cell_type": "markdown",
      "source": [
        "question 10"
      ],
      "metadata": {
        "id": "BO6UM8Xl7fMH"
      }
    },
    {
      "cell_type": "code",
      "source": [
        "u=float(input(\"enter te number of units consumed :\"))\n",
        "b=(u*5.2)+100\n",
        "print(\"electricity bill :\",b)\n"
      ],
      "metadata": {
        "colab": {
          "base_uri": "https://localhost:8080/"
        },
        "id": "W3OQr3YM6C8X",
        "outputId": "a09c8636-c323-4a99-b789-19b89daab545"
      },
      "execution_count": 17,
      "outputs": [
        {
          "output_type": "stream",
          "name": "stdout",
          "text": [
            "enter te number of units consumed :250\n",
            "electricity bill : 1400.0\n"
          ]
        }
      ]
    },
    {
      "cell_type": "code",
      "source": [],
      "metadata": {
        "id": "TLglBXkr-tmK"
      },
      "execution_count": null,
      "outputs": []
    }
  ]
}